{
 "cells": [
  {
   "cell_type": "markdown",
   "metadata": {},
   "source": [
    "# Accessing Resources of Keras Model"
   ]
  },
  {
   "cell_type": "markdown",
   "metadata": {},
   "source": [
    "1) SSH to http://correlator2.fnal.gov/  \n",
    "2) Run the following commands (If this is first time doing this)\n",
    ">\n",
    ">**Checkout the repository**  \n",
    ">git clone git@github.com:hls-fpga-machine-learning/hls4ml  \n",
    ">**Install miniconda & hls4ml python environment**   \n",
    ">cd hls4ml  \n",
    ">source install_miniconda3.sh   \n",
    ">source install.sh  \n",
    ">setup vivado 2018.2  \n",
    "> source activate hls4ml-env  \n",
    ">source /home/jduarte1/setup_vivado.sh  \n",
    ">cd keras-to-hls  \n",
    ">**Edit keras-config.yml to point to small conv1d model:**  \n",
    ">*KerasJson: example-keras-model-files/KERAS_conv1d_small.json  \n",
    ">KerasH5:   example-keras-model-files/KERAS_conv1d_small_weights.h5*  \n",
    "\n",
    ">**Create an hls project:**   \n",
    ">python keras-to-hls.py -c keras-config.yml   \n",
    ">run csim, csynth, cosim, export in hls project  \n",
    ">cd my-hls-test  \n",
    ">vivado_hls -f build_prj.tcl\n",
    "\n",
    "\n",
    "3) Run the following commands (If you have already ran through this before) \n",
    "\n",
    ">cd hls4ml  \n",
    ">**Activate conda enviroment**  \n",
    ">source activate hls4ml-env  \n",
    ">source /home/jduarte1/setup_vivado.sh  \n",
    ">cd keras-to-hls  \n",
    ">**Create HLS project**  \n",
    ">python keras-to-hls.py -c keras-config.yml  \n",
    ">cd my-hls-test  \n",
    ">vivado_hls -f build_prj.tcl   \n",
    ">**Access Resource Usages**   \n",
    ">cd project_prj  \n",
    ">cd solution1   \n",
    ">cat syn/report/myproject_csynth.rpt \n",
    "\n",
    "\n"
   ]
  },
  {
   "cell_type": "markdown",
   "metadata": {},
   "source": [
    "## Note: Changing Model to Use  \n",
    "While in keras-to-hls directory, type in  \n",
    "> emacs -nw keras-config.yml  \n",
    "\n",
    "Then change desired .json and .h5 files  \n",
    "Save by *ctrl+x and ctrl+s* and then exit by *ctrl+x and ctrl+c*"
   ]
  },
  {
   "cell_type": "code",
   "execution_count": null,
   "metadata": {},
   "outputs": [],
   "source": []
  }
 ],
 "metadata": {
  "kernelspec": {
   "display_name": "Python 3",
   "language": "python",
   "name": "python3"
  },
  "language_info": {
   "codemirror_mode": {
    "name": "ipython",
    "version": 3
   },
   "file_extension": ".py",
   "mimetype": "text/x-python",
   "name": "python",
   "nbconvert_exporter": "python",
   "pygments_lexer": "ipython3",
   "version": "3.7.3"
  }
 },
 "nbformat": 4,
 "nbformat_minor": 2
}
