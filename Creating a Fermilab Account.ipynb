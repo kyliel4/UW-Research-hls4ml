{
 "cells": [
  {
   "cell_type": "markdown",
   "metadata": {},
   "source": [
    "## Who To Message\n",
    "\n",
    "1) Start by messaging Nhan about wanting to get a Fermilab account  \n",
    "2) Go to link that he sends, most likely to be https://fermi.service-now.com/new_acct_request.do\n"
   ]
  },
  {
   "cell_type": "markdown",
   "metadata": {},
   "source": [
    "## Filling out Request for Fermilab Account\n",
    "1) Click link to create an ORC ID if you do not have one already    \n",
    "2) Select Affiliation given from Nhan  \n",
    "3) Fill in rest of information and submit form"
   ]
  },
  {
   "cell_type": "markdown",
   "metadata": {},
   "source": [
    "## Accessing Fermilab Resources Using Putty\n",
    "1) Go to website https://uscms.org/uscms_at_work/computing/getstarted/uaf.shtml#prerequisiteSSHConfig  \n",
    "2) Scroll down to find **Kerberos and SSH with PuTTY and XMing** and follow instructions to setup Putty and Kerberos  "
   ]
  },
  {
   "cell_type": "markdown",
   "metadata": {},
   "source": [
    "## Possible Errors\n",
    "- **Unable to "
   ]
  },
  {
   "cell_type": "markdown",
   "metadata": {},
   "source": [
    "## International Students\n",
    "May be additional paperwork required for international students\n"
   ]
  }
 ],
 "metadata": {
  "kernelspec": {
   "display_name": "Python 3",
   "language": "python",
   "name": "python3"
  },
  "language_info": {
   "codemirror_mode": {
    "name": "ipython",
    "version": 3
   },
   "file_extension": ".py",
   "mimetype": "text/x-python",
   "name": "python",
   "nbconvert_exporter": "python",
   "pygments_lexer": "ipython3",
   "version": "3.7.3"
  }
 },
 "nbformat": 4,
 "nbformat_minor": 2
}
