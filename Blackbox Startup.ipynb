{
 "cells": [
  {
   "cell_type": "markdown",
   "metadata": {},
   "source": [
    "## Example Code\n",
    "\n",
    "1) Use following Github to check out example code utilizing Blackbox Feature  \n",
    "> https://github.com/aperloff/GlobalCorrelator/tree/test_blackbox_feature/pulsar_devkit/simple_examples/HLSIPs  \n",
    "\n",
    "2) Check out following files relevant to Blackbox  \n",
    ">   run_simple_algo_blackbox.tcl  \n",
    "    simple_algo_blackbox_test.cpp  \n",
    "    src/simple_algo_blackbox.h  \n",
    "    src/simple_algo_blackbox.cpp  \n",
    "    src/simple_algo_blackbox.json  \n",
    "    src/simple_algo_blackbox_stream.json  \n",
    "    src/simple_algo_blackbox_deepstream.json  \n",
    "    src/rtl_simple_algo_blackbox.v  \n",
    "    src/rtl_simple_algo_blackbox_stream.v  \n",
    "    src/rtl_simple_algo_blackbox_deepstream.v  \n",
    "    \n",
    "3) How to Run Code  \n",
    "> Select the version of the blackbox code you'd like to run (base, stream, or deepstream) and modify the tcl script accordingly. You set this on line 7 of the script.  \n",
    " Based on your selection in the tcl script, you will need to modify which of lines 5-20 in  src/simple_algo_blackbox.h are uncommented.  \n",
    " Run the program in Vivado HLS 2019.1 Command Prompt using  \n",
    " vivado_hls -f run_simple_algo_blackbox.tcl\n"
   ]
  },
  {
   "cell_type": "markdown",
   "metadata": {},
   "source": [
    "## User Guide Readings\n",
    "\n",
    "- Check out following links for user guides on Blackbox\n",
    "> **Overall Walkthrough**  \n",
    "Includes format guide for JSON and RTL Ports  \n",
    "https://www.xilinx.com/support/documentation/sw_manuals/xilinx2019_1/ug902-vivado-high-level-synthesis.pdf#page=295  \n",
    "> **Example JSON File**  \n",
    "https://www.xilinx.com/support/documentation/sw_manuals/xilinx2019_1/ug902-vivado-high-level-synthesis.pdf#page=295  \n",
    "\n",
    "### Takeaways from Reading\n",
    "\n",
    "- Steps to do Blackbox into HLS\n",
    "    1. Create a C implementation function of the RTL IP.  \n",
    "    2. Call the C implementation function inside the HLS design.  \n",
    "    3. Create a JSON file with the necessary fields.  \n",
    "    4. Add the JSON file to the script.tcl file using the add_files option.  \n",
    "        add_files –blackbox my_file.json  \n",
    "    5. Run HLS design flow; i.e., Csim, synthesis, and cosim.  "
   ]
  },
  {
   "cell_type": "code",
   "execution_count": null,
   "metadata": {},
   "outputs": [],
   "source": []
  }
 ],
 "metadata": {
  "kernelspec": {
   "display_name": "Python 3",
   "language": "python",
   "name": "python3"
  },
  "language_info": {
   "codemirror_mode": {
    "name": "ipython",
    "version": 3
   },
   "file_extension": ".py",
   "mimetype": "text/x-python",
   "name": "python",
   "nbconvert_exporter": "python",
   "pygments_lexer": "ipython3",
   "version": "3.7.3"
  }
 },
 "nbformat": 4,
 "nbformat_minor": 2
}
